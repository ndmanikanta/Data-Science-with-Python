{
 "cells": [
  {
   "cell_type": "markdown",
   "metadata": {},
   "source": [
    "### Problem: \n",
    "\n",
    "Evaluate the dataset of the Summer Olympics, London 2012 to:\n",
    "\n",
    "Find and print the name of the country that won maximum gold medals,\n",
    "Find and print the countries who won more than 20 gold medals,\n",
    "Print the medal tally,\n",
    "Print each country name with the corresponding number of gold medals, and\n",
    "Print each country's name with the total number of medals won."
   ]
  },
  {
   "cell_type": "code",
   "execution_count": 2,
   "metadata": {},
   "outputs": [],
   "source": [
    "import numpy as np"
   ]
  },
  {
   "cell_type": "code",
   "execution_count": 3,
   "metadata": {},
   "outputs": [],
   "source": [
    "countries=np.array(['Great Britain','China','Russia','United States','Korea','Japan','Germany'])"
   ]
  },
  {
   "cell_type": "code",
   "execution_count": 4,
   "metadata": {},
   "outputs": [],
   "source": [
    "gold_medals=np.array([29,38,24,46,13,7,11])"
   ]
  },
  {
   "cell_type": "code",
   "execution_count": 5,
   "metadata": {},
   "outputs": [],
   "source": [
    "silver_medals=np.array([17,28,25,28,8,14,11])"
   ]
  },
  {
   "cell_type": "code",
   "execution_count": 13,
   "metadata": {},
   "outputs": [],
   "source": [
    "bronze_medals=np.array([19,22,32,29,7,17,14])"
   ]
  },
  {
   "cell_type": "code",
   "execution_count": 7,
   "metadata": {},
   "outputs": [
    {
     "data": {
      "text/plain": [
       "'United States'"
      ]
     },
     "execution_count": 7,
     "metadata": {},
     "output_type": "execute_result"
    }
   ],
   "source": [
    "countries[gold_medals.argmax()]"
   ]
  },
  {
   "cell_type": "code",
   "execution_count": 8,
   "metadata": {},
   "outputs": [
    {
     "data": {
      "text/plain": [
       "array(['Great Britain', 'China', 'Russia', 'United States'], dtype='<U13')"
      ]
     },
     "execution_count": 8,
     "metadata": {},
     "output_type": "execute_result"
    }
   ],
   "source": [
    "countries[gold_medals>20]"
   ]
  },
  {
   "cell_type": "code",
   "execution_count": 14,
   "metadata": {},
   "outputs": [
    {
     "name": "stdout",
     "output_type": "stream",
     "text": [
      "Medals in Great Britain are gold: 29 silver: 17, bronze: 19\n",
      "Medals in China are gold: 38 silver: 28, bronze: 22\n",
      "Medals in Russia are gold: 24 silver: 25, bronze: 32\n",
      "Medals in United States are gold: 46 silver: 28, bronze: 29\n",
      "Medals in Korea are gold: 13 silver: 8, bronze: 7\n",
      "Medals in Japan are gold: 7 silver: 14, bronze: 17\n",
      "Medals in Germany are gold: 11 silver: 11, bronze: 14\n"
     ]
    }
   ],
   "source": [
    "for i in range(len(countries)):\n",
    "    country=countries[i]\n",
    "    gold=gold_medals[i]\n",
    "    silver=silver_medals[i]\n",
    "    bronze=bronze_medals[i]\n",
    "    print('Medals in {} are gold: {} silver: {}, bronze: {}'.format(country,gold,silver,bronze))"
   ]
  },
  {
   "cell_type": "code",
   "execution_count": 15,
   "metadata": {},
   "outputs": [
    {
     "name": "stdout",
     "output_type": "stream",
     "text": [
      "Great Britain no. of gold medals 29\n",
      "China no. of gold medals 38\n",
      "Russia no. of gold medals 24\n",
      "United States no. of gold medals 46\n",
      "Korea no. of gold medals 13\n",
      "Japan no. of gold medals 7\n",
      "Germany no. of gold medals 11\n"
     ]
    }
   ],
   "source": [
    "for i in range(len(countries)):\n",
    "    country=countries[i]\n",
    "    gold=gold_medals[i]\n",
    "    print('{} no. of gold medals {}'.format(country,gold))"
   ]
  },
  {
   "cell_type": "code",
   "execution_count": 17,
   "metadata": {},
   "outputs": [
    {
     "name": "stdout",
     "output_type": "stream",
     "text": [
      "Great Britain total nuumber of medals =65\n",
      "China total nuumber of medals =88\n",
      "Russia total nuumber of medals =81\n",
      "United States total nuumber of medals =103\n",
      "Korea total nuumber of medals =28\n",
      "Japan total nuumber of medals =38\n",
      "Germany total nuumber of medals =36\n"
     ]
    }
   ],
   "source": [
    "#total medals in all countries\n",
    "total_medals=gold_medals + silver_medals + bronze_medals\n",
    "for i in range(len(countries)):\n",
    "    country=countries[i]\n",
    "    total=total_medals[i]\n",
    "    print('{} total nuumber of medals ={}'.format(country,total))"
   ]
  },
  {
   "cell_type": "code",
   "execution_count": null,
   "metadata": {},
   "outputs": [],
   "source": []
  }
 ],
 "metadata": {
  "kernelspec": {
   "display_name": "Python 3",
   "language": "python",
   "name": "python3"
  },
  "language_info": {
   "codemirror_mode": {
    "name": "ipython",
    "version": 3
   },
   "file_extension": ".py",
   "mimetype": "text/x-python",
   "name": "python",
   "nbconvert_exporter": "python",
   "pygments_lexer": "ipython3",
   "version": "3.8.3"
  }
 },
 "nbformat": 4,
 "nbformat_minor": 4
}
