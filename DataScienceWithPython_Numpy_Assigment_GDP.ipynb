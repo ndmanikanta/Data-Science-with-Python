{
 "cells": [
  {
   "cell_type": "markdown",
   "metadata": {},
   "source": [
    "### Problem statement:\n",
    "DESCRIPTION\n",
    "\n",
    "Problem Statement: Evaluate the dataset containing the GDPs of different countries to:\n",
    "\n",
    "Find and print the name of the country with the highest GDP\n",
    "Find and print the name of the country with the lowest GDP\n",
    "Print out text and input values iteratively\n",
    "Print out the entire list of the countries with their GDPs\n",
    "Print the highest GDP value, lowest GDP value, mean GDP value, standardized GDP value, and the sum of all the GDPs"
   ]
  },
  {
   "cell_type": "code",
   "execution_count": 4,
   "metadata": {},
   "outputs": [],
   "source": [
    "import numpy as np\n"
   ]
  },
  {
   "cell_type": "code",
   "execution_count": 5,
   "metadata": {},
   "outputs": [],
   "source": [
    "countries=np.array(['Algeria','Angola','Argentina','Australia','Austria','Bahamas','Bangladesh','Belarus','Belgium','Bhutan','Brazil','Bulgaria','Cambodia','Cameroon','Chile','China','Colombia','Cyprus','Denmark','El Salvador','Estonia','Ethiopia','Fiji','Finland','France','Georgia','Ghana','Grenada','Guinea','Haiti','Honduras','Hungary','India','Indonesia','Ireland','Italy','Japan','Kenya', 'South Korea','Liberia','Malaysia','Mexico', 'Morocco','Nepal','New Zealand','Norway','Pakistan', 'Peru','Qatar','Russia','Singapore','South Africa','Spain','Sweden','Switzerland','Thailand', 'United Arab Emirates','United Kingdom','United States','Uruguay','Venezuela','Vietnam','Zimbabwe'])"
   ]
  },
  {
   "cell_type": "code",
   "execution_count": 6,
   "metadata": {},
   "outputs": [],
   "source": [
    "gdp=np.array([2255.225482,629.9553062,11601.63022,25306.82494,27266.40335,19466.99052,588.3691778,2890.345675,24733.62696,1445.760002,4803.398244,2618.876037,590.4521124,665.7982328,7122.938458,2639.54156,3362.4656,15378.16704,30860.12808,2579.115607,6525.541272,229.6769525,2242.689259,27570.4852,23016.84778,1334.646773,402.6953275,6047.200797,394.1156638,385.5793827,1414.072488,5745.981529,837.7464011,1206.991065,27715.52837,18937.24998,39578.07441,478.2194906,16684.21278,279.2204061,5345.213415,6288.25324,1908.304416,274.8728621,14646.42094,40034.85063,672.1547506,3359.517402,36152.66676,3054.727742,33529.83052,3825.093781,15428.32098,33630.24604,39170.41371,2699.123242,21058.43643,28272.40661,37691.02733,9581.05659,5671.912202,757.4009286,347.7456605])"
   ]
  },
  {
   "cell_type": "code",
   "execution_count": 7,
   "metadata": {},
   "outputs": [
    {
     "data": {
      "text/plain": [
       "array([ 2255.225482 ,   629.9553062, 11601.63022  , 25306.82494  ,\n",
       "       27266.40335  , 19466.99052  ,   588.3691778,  2890.345675 ,\n",
       "       24733.62696  ,  1445.760002 ,  4803.398244 ,  2618.876037 ,\n",
       "         590.4521124,   665.7982328,  7122.938458 ,  2639.54156  ,\n",
       "        3362.4656   , 15378.16704  , 30860.12808  ,  2579.115607 ,\n",
       "        6525.541272 ,   229.6769525,  2242.689259 , 27570.4852   ,\n",
       "       23016.84778  ,  1334.646773 ,   402.6953275,  6047.200797 ,\n",
       "         394.1156638,   385.5793827,  1414.072488 ,  5745.981529 ,\n",
       "         837.7464011,  1206.991065 , 27715.52837  , 18937.24998  ,\n",
       "       39578.07441  ,   478.2194906, 16684.21278  ,   279.2204061,\n",
       "        5345.213415 ,  6288.25324  ,  1908.304416 ,   274.8728621,\n",
       "       14646.42094  , 40034.85063  ,   672.1547506,  3359.517402 ,\n",
       "       36152.66676  ,  3054.727742 , 33529.83052  ,  3825.093781 ,\n",
       "       15428.32098  , 33630.24604  , 39170.41371  ,  2699.123242 ,\n",
       "       21058.43643  , 28272.40661  , 37691.02733  ,  9581.05659  ,\n",
       "        5671.912202 ,   757.4009286,   347.7456605])"
      ]
     },
     "execution_count": 7,
     "metadata": {},
     "output_type": "execute_result"
    }
   ],
   "source": [
    "gdp"
   ]
  },
  {
   "cell_type": "code",
   "execution_count": 8,
   "metadata": {},
   "outputs": [
    {
     "data": {
      "text/plain": [
       "array(['Algeria', 'Angola', 'Argentina', 'Australia', 'Austria',\n",
       "       'Bahamas', 'Bangladesh', 'Belarus', 'Belgium', 'Bhutan', 'Brazil',\n",
       "       'Bulgaria', 'Cambodia', 'Cameroon', 'Chile', 'China', 'Colombia',\n",
       "       'Cyprus', 'Denmark', 'El Salvador', 'Estonia', 'Ethiopia', 'Fiji',\n",
       "       'Finland', 'France', 'Georgia', 'Ghana', 'Grenada', 'Guinea',\n",
       "       'Haiti', 'Honduras', 'Hungary', 'India', 'Indonesia', 'Ireland',\n",
       "       'Italy', 'Japan', 'Kenya', 'South Korea', 'Liberia', 'Malaysia',\n",
       "       'Mexico', 'Morocco', 'Nepal', 'New Zealand', 'Norway', 'Pakistan',\n",
       "       'Peru', 'Qatar', 'Russia', 'Singapore', 'South Africa', 'Spain',\n",
       "       'Sweden', 'Switzerland', 'Thailand', 'United Arab Emirates',\n",
       "       'United Kingdom', 'United States', 'Uruguay', 'Venezuela',\n",
       "       'Vietnam', 'Zimbabwe'], dtype='<U20')"
      ]
     },
     "execution_count": 8,
     "metadata": {},
     "output_type": "execute_result"
    }
   ],
   "source": [
    "countries"
   ]
  },
  {
   "cell_type": "code",
   "execution_count": 9,
   "metadata": {},
   "outputs": [],
   "source": [
    "gdpmax=gdp.argmax()"
   ]
  },
  {
   "cell_type": "code",
   "execution_count": 10,
   "metadata": {},
   "outputs": [
    {
     "data": {
      "text/plain": [
       "'Norway'"
      ]
     },
     "execution_count": 10,
     "metadata": {},
     "output_type": "execute_result"
    }
   ],
   "source": [
    "countries[gdpmax]"
   ]
  },
  {
   "cell_type": "code",
   "execution_count": 11,
   "metadata": {},
   "outputs": [],
   "source": [
    "gdpmin=gdp.argmin()"
   ]
  },
  {
   "cell_type": "code",
   "execution_count": 12,
   "metadata": {},
   "outputs": [
    {
     "data": {
      "text/plain": [
       "'Ethiopia'"
      ]
     },
     "execution_count": 12,
     "metadata": {},
     "output_type": "execute_result"
    }
   ],
   "source": [
    "countries[gdpmin]"
   ]
  },
  {
   "cell_type": "code",
   "execution_count": 13,
   "metadata": {},
   "outputs": [],
   "source": [
    "###3. Print out text and input values iteratively"
   ]
  },
  {
   "cell_type": "code",
   "execution_count": 14,
   "metadata": {},
   "outputs": [
    {
     "name": "stdout",
     "output_type": "stream",
     "text": [
      "evaluating countires Algeria\n",
      "evaluating countires Angola\n",
      "evaluating countires Argentina\n",
      "evaluating countires Australia\n",
      "evaluating countires Austria\n",
      "evaluating countires Bahamas\n",
      "evaluating countires Bangladesh\n",
      "evaluating countires Belarus\n",
      "evaluating countires Belgium\n",
      "evaluating countires Bhutan\n",
      "evaluating countires Brazil\n",
      "evaluating countires Bulgaria\n",
      "evaluating countires Cambodia\n",
      "evaluating countires Cameroon\n",
      "evaluating countires Chile\n",
      "evaluating countires China\n",
      "evaluating countires Colombia\n",
      "evaluating countires Cyprus\n",
      "evaluating countires Denmark\n",
      "evaluating countires El Salvador\n",
      "evaluating countires Estonia\n",
      "evaluating countires Ethiopia\n",
      "evaluating countires Fiji\n",
      "evaluating countires Finland\n",
      "evaluating countires France\n",
      "evaluating countires Georgia\n",
      "evaluating countires Ghana\n",
      "evaluating countires Grenada\n",
      "evaluating countires Guinea\n",
      "evaluating countires Haiti\n",
      "evaluating countires Honduras\n",
      "evaluating countires Hungary\n",
      "evaluating countires India\n",
      "evaluating countires Indonesia\n",
      "evaluating countires Ireland\n",
      "evaluating countires Italy\n",
      "evaluating countires Japan\n",
      "evaluating countires Kenya\n",
      "evaluating countires South Korea\n",
      "evaluating countires Liberia\n",
      "evaluating countires Malaysia\n",
      "evaluating countires Mexico\n",
      "evaluating countires Morocco\n",
      "evaluating countires Nepal\n",
      "evaluating countires New Zealand\n",
      "evaluating countires Norway\n",
      "evaluating countires Pakistan\n",
      "evaluating countires Peru\n",
      "evaluating countires Qatar\n",
      "evaluating countires Russia\n",
      "evaluating countires Singapore\n",
      "evaluating countires South Africa\n",
      "evaluating countires Spain\n",
      "evaluating countires Sweden\n",
      "evaluating countires Switzerland\n",
      "evaluating countires Thailand\n",
      "evaluating countires United Arab Emirates\n",
      "evaluating countires United Kingdom\n",
      "evaluating countires United States\n",
      "evaluating countires Uruguay\n",
      "evaluating countires Venezuela\n",
      "evaluating countires Vietnam\n",
      "evaluating countires Zimbabwe\n"
     ]
    }
   ],
   "source": [
    "for country in countries:\n",
    "    print('evaluating countires {}'.format(country))"
   ]
  },
  {
   "cell_type": "code",
   "execution_count": 15,
   "metadata": {},
   "outputs": [
    {
     "name": "stdout",
     "output_type": "stream",
     "text": [
      "country: Algeria gdp is 2255.225482\n",
      "country: Angola gdp is 629.9553062\n",
      "country: Argentina gdp is 11601.63022\n",
      "country: Australia gdp is 25306.82494\n",
      "country: Austria gdp is 27266.40335\n",
      "country: Bahamas gdp is 19466.99052\n",
      "country: Bangladesh gdp is 588.3691778\n",
      "country: Belarus gdp is 2890.345675\n",
      "country: Belgium gdp is 24733.62696\n",
      "country: Bhutan gdp is 1445.760002\n",
      "country: Brazil gdp is 4803.398244\n",
      "country: Bulgaria gdp is 2618.876037\n",
      "country: Cambodia gdp is 590.4521124\n",
      "country: Cameroon gdp is 665.7982328\n",
      "country: Chile gdp is 7122.938458\n",
      "country: China gdp is 2639.54156\n",
      "country: Colombia gdp is 3362.4656\n",
      "country: Cyprus gdp is 15378.16704\n",
      "country: Denmark gdp is 30860.12808\n",
      "country: El Salvador gdp is 2579.115607\n",
      "country: Estonia gdp is 6525.541272\n",
      "country: Ethiopia gdp is 229.6769525\n",
      "country: Fiji gdp is 2242.689259\n",
      "country: Finland gdp is 27570.4852\n",
      "country: France gdp is 23016.84778\n",
      "country: Georgia gdp is 1334.646773\n",
      "country: Ghana gdp is 402.6953275\n",
      "country: Grenada gdp is 6047.200797\n",
      "country: Guinea gdp is 394.1156638\n",
      "country: Haiti gdp is 385.5793827\n",
      "country: Honduras gdp is 1414.072488\n",
      "country: Hungary gdp is 5745.981529\n",
      "country: India gdp is 837.7464011\n",
      "country: Indonesia gdp is 1206.991065\n",
      "country: Ireland gdp is 27715.52837\n",
      "country: Italy gdp is 18937.24998\n",
      "country: Japan gdp is 39578.07441\n",
      "country: Kenya gdp is 478.2194906\n",
      "country: South Korea gdp is 16684.21278\n",
      "country: Liberia gdp is 279.2204061\n",
      "country: Malaysia gdp is 5345.213415\n",
      "country: Mexico gdp is 6288.25324\n",
      "country: Morocco gdp is 1908.304416\n",
      "country: Nepal gdp is 274.8728621\n",
      "country: New Zealand gdp is 14646.42094\n",
      "country: Norway gdp is 40034.85063\n",
      "country: Pakistan gdp is 672.1547506\n",
      "country: Peru gdp is 3359.517402\n",
      "country: Qatar gdp is 36152.66676\n",
      "country: Russia gdp is 3054.727742\n",
      "country: Singapore gdp is 33529.83052\n",
      "country: South Africa gdp is 3825.093781\n",
      "country: Spain gdp is 15428.32098\n",
      "country: Sweden gdp is 33630.24604\n",
      "country: Switzerland gdp is 39170.41371\n",
      "country: Thailand gdp is 2699.123242\n",
      "country: United Arab Emirates gdp is 21058.43643\n",
      "country: United Kingdom gdp is 28272.40661\n",
      "country: United States gdp is 37691.02733\n",
      "country: Uruguay gdp is 9581.05659\n",
      "country: Venezuela gdp is 5671.912202\n",
      "country: Vietnam gdp is 757.4009286\n",
      "country: Zimbabwe gdp is 347.7456605\n"
     ]
    }
   ],
   "source": [
    "for i in range(len(countries)):\n",
    "    country=countries[i]\n",
    "    country_gdp=gdp[i]\n",
    "    print('country: {} gdp is {}'.format(country,country_gdp))"
   ]
  },
  {
   "cell_type": "code",
   "execution_count": 16,
   "metadata": {},
   "outputs": [
    {
     "data": {
      "text/plain": [
       "711232.7841133"
      ]
     },
     "execution_count": 16,
     "metadata": {},
     "output_type": "execute_result"
    }
   ],
   "source": [
    "gdp.min()\n",
    "gdp.max()\n",
    "gdp.mean()\n",
    "gdp.std()\n",
    "gdp.sum()"
   ]
  },
  {
   "cell_type": "code",
   "execution_count": null,
   "metadata": {},
   "outputs": [],
   "source": []
  },
  {
   "cell_type": "code",
   "execution_count": null,
   "metadata": {},
   "outputs": [],
   "source": []
  },
  {
   "cell_type": "code",
   "execution_count": null,
   "metadata": {},
   "outputs": [],
   "source": []
  },
  {
   "cell_type": "code",
   "execution_count": null,
   "metadata": {},
   "outputs": [],
   "source": []
  },
  {
   "cell_type": "code",
   "execution_count": null,
   "metadata": {},
   "outputs": [],
   "source": []
  }
 ],
 "metadata": {
  "kernelspec": {
   "display_name": "Python 3",
   "language": "python",
   "name": "python3"
  },
  "language_info": {
   "codemirror_mode": {
    "name": "ipython",
    "version": 3
   },
   "file_extension": ".py",
   "mimetype": "text/x-python",
   "name": "python",
   "nbconvert_exporter": "python",
   "pygments_lexer": "ipython3",
   "version": "3.8.3"
  }
 },
 "nbformat": 4,
 "nbformat_minor": 4
}
